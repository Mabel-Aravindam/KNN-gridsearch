{
 "cells": [
  {
   "cell_type": "code",
   "execution_count": 8,
   "id": "91c40565",
   "metadata": {},
   "outputs": [
    {
     "name": "stdout",
     "output_type": "stream",
     "text": [
      "Fitting 4 folds for each of 18 candidates, totalling 72 fits\n",
      "{'n_neighbors': 10}\n"
     ]
    }
   ],
   "source": [
    "from sklearn import datasets \n",
    "from sklearn.model_selection import train_test_split\n",
    "from sklearn.neighbors import KNeighborsClassifier\n",
    "from sklearn.model_selection import GridSearchCV, KFold\n",
    "from sklearn import metrics\n",
    "from sklearn.metrics import confusion_matrix\n",
    "import warnings\n",
    "warnings.filterwarnings('ignore')\n",
    "\n",
    "#splitting dataset\n",
    "cancer = datasets.load_breast_cancer()\n",
    "X_train, X_test, y_train, y_test = train_test_split(cancer.data, cancer.target, test_size=0.3,random_state=109)\n",
    "\n",
    "#Using knn classifier\n",
    "knn = KNeighborsClassifier()\n",
    "k_range = list(range(1, 19))\n",
    "parameter_grid = dict(n_neighbors=k_range)\n",
    "\n",
    "#k-fold cross validation\n",
    "cv = KFold(n_splits=4)\n",
    "\n",
    "#Hyperparameter tuning using grid search\n",
    "grid = GridSearchCV(knn, parameter_grid, cv=cv, return_train_score=False, verbose=1)\n",
    "grid_search=grid.fit(X_train,y_train)\n",
    "print (grid_search.best_params_)"
   ]
  },
  {
   "cell_type": "code",
   "execution_count": 9,
   "id": "41bbaf0b",
   "metadata": {},
   "outputs": [
    {
     "name": "stdout",
     "output_type": "stream",
     "text": [
      "Accuracy: 97.6608187134503\n",
      "Specificity: 95.23809523809523\n",
      "Sensitivity: 99.07407407407408\n"
     ]
    }
   ],
   "source": [
    "knn = KNeighborsClassifier(n_neighbors=10)\n",
    "\n",
    "# fit the model on the combined training and validation set\n",
    "knn.fit(X_train, y_train)\n",
    "\n",
    "# make predictions on the test set\n",
    "y_pred = knn.predict(X_test)\n",
    "\n",
    "#calculating accuracy,specificity,sensitivity\n",
    "print(\"Accuracy:\",metrics.accuracy_score(y_test, y_pred)*100)\n",
    "tn, fp, fn, tp = confusion_matrix(y_test,y_pred).ravel()\n",
    "specificity = (tn/(tn+fp)*100)\n",
    "sensitivity= (tp/(tp+fn)*100)\n",
    "print (\"Specificity:\", specificity)\n",
    "print(\"Sensitivity:\", sensitivity)"
   ]
  }
 ],
 "metadata": {
  "celltoolbar": "Raw Cell Format",
  "kernelspec": {
   "display_name": "Python 3 (ipykernel)",
   "language": "python",
   "name": "python3"
  },
  "language_info": {
   "codemirror_mode": {
    "name": "ipython",
    "version": 3
   },
   "file_extension": ".py",
   "mimetype": "text/x-python",
   "name": "python",
   "nbconvert_exporter": "python",
   "pygments_lexer": "ipython3",
   "version": "3.9.13"
  }
 },
 "nbformat": 4,
 "nbformat_minor": 5
}
